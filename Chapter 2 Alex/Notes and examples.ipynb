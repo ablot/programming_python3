{
 "metadata": {
  "language_info": {
   "codemirror_mode": {
    "name": "ipython",
    "version": 3
   },
   "file_extension": ".py",
   "mimetype": "text/x-python",
   "name": "python",
   "nbconvert_exporter": "python",
   "pygments_lexer": "ipython3",
   "version": "3.8.5-final"
  },
  "orig_nbformat": 2,
  "kernelspec": {
   "name": "python3",
   "display_name": "Python 3",
   "language": "python"
  }
 },
 "nbformat": 4,
 "nbformat_minor": 2,
 "cells": [
  {
   "source": [
    "Object reference naming conventions:\n",
    "=\n",
    "Do not reuse names of data types, python keywords or built in attributes\n",
    "-\n",
    "Calling dir() with no arguments lists all of Python's built in attributes:"
   ],
   "cell_type": "markdown",
   "metadata": {}
  },
  {
   "cell_type": "code",
   "execution_count": 3,
   "metadata": {},
   "outputs": [
    {
     "output_type": "execute_result",
     "data": {
      "text/plain": [
       "['In',\n",
       " 'Out',\n",
       " '_',\n",
       " '_1',\n",
       " '__',\n",
       " '___',\n",
       " '__builtin__',\n",
       " '__builtins__',\n",
       " '__doc__',\n",
       " '__loader__',\n",
       " '__name__',\n",
       " '__package__',\n",
       " '__spec__',\n",
       " '_dh',\n",
       " '_i',\n",
       " '_i1',\n",
       " '_i2',\n",
       " '_i3',\n",
       " '_ih',\n",
       " '_ii',\n",
       " '_iii',\n",
       " '_oh',\n",
       " 'exit',\n",
       " 'get_ipython',\n",
       " 'quit']"
      ]
     },
     "metadata": {},
     "execution_count": 3
    }
   ],
   "source": [
    "dir()"
   ]
  },
  {
   "source": [
    "The __builtins__ attribute is, in effect, a module that holds all of Python’s\n",
    "built-in attributes. We can use it as an argument to the dir() function. Those\n",
    "that begin with a capital letter are the names of Python’s built-in exceptions;\n",
    "the rest are function and data type names:"
   ],
   "cell_type": "markdown",
   "metadata": {}
  },
  {
   "cell_type": "code",
   "execution_count": 4,
   "metadata": {},
   "outputs": [
    {
     "output_type": "execute_result",
     "data": {
      "text/plain": [
       "['ArithmeticError',\n",
       " 'AssertionError',\n",
       " 'AttributeError',\n",
       " 'BaseException',\n",
       " 'BlockingIOError',\n",
       " 'BrokenPipeError',\n",
       " 'BufferError',\n",
       " 'BytesWarning',\n",
       " 'ChildProcessError',\n",
       " 'ConnectionAbortedError',\n",
       " 'ConnectionError',\n",
       " 'ConnectionRefusedError',\n",
       " 'ConnectionResetError',\n",
       " 'DeprecationWarning',\n",
       " 'EOFError',\n",
       " 'Ellipsis',\n",
       " 'EnvironmentError',\n",
       " 'Exception',\n",
       " 'False',\n",
       " 'FileExistsError',\n",
       " 'FileNotFoundError',\n",
       " 'FloatingPointError',\n",
       " 'FutureWarning',\n",
       " 'GeneratorExit',\n",
       " 'IOError',\n",
       " 'ImportError',\n",
       " 'ImportWarning',\n",
       " 'IndentationError',\n",
       " 'IndexError',\n",
       " 'InterruptedError',\n",
       " 'IsADirectoryError',\n",
       " 'KeyError',\n",
       " 'KeyboardInterrupt',\n",
       " 'LookupError',\n",
       " 'MemoryError',\n",
       " 'ModuleNotFoundError',\n",
       " 'NameError',\n",
       " 'None',\n",
       " 'NotADirectoryError',\n",
       " 'NotImplemented',\n",
       " 'NotImplementedError',\n",
       " 'OSError',\n",
       " 'OverflowError',\n",
       " 'PendingDeprecationWarning',\n",
       " 'PermissionError',\n",
       " 'ProcessLookupError',\n",
       " 'RecursionError',\n",
       " 'ReferenceError',\n",
       " 'ResourceWarning',\n",
       " 'RuntimeError',\n",
       " 'RuntimeWarning',\n",
       " 'StopAsyncIteration',\n",
       " 'StopIteration',\n",
       " 'SyntaxError',\n",
       " 'SyntaxWarning',\n",
       " 'SystemError',\n",
       " 'SystemExit',\n",
       " 'TabError',\n",
       " 'TimeoutError',\n",
       " 'True',\n",
       " 'TypeError',\n",
       " 'UnboundLocalError',\n",
       " 'UnicodeDecodeError',\n",
       " 'UnicodeEncodeError',\n",
       " 'UnicodeError',\n",
       " 'UnicodeTranslateError',\n",
       " 'UnicodeWarning',\n",
       " 'UserWarning',\n",
       " 'ValueError',\n",
       " 'Warning',\n",
       " 'WindowsError',\n",
       " 'ZeroDivisionError',\n",
       " '__IPYTHON__',\n",
       " '__build_class__',\n",
       " '__debug__',\n",
       " '__doc__',\n",
       " '__import__',\n",
       " '__loader__',\n",
       " '__name__',\n",
       " '__package__',\n",
       " '__spec__',\n",
       " 'abs',\n",
       " 'all',\n",
       " 'any',\n",
       " 'ascii',\n",
       " 'bin',\n",
       " 'bool',\n",
       " 'breakpoint',\n",
       " 'bytearray',\n",
       " 'bytes',\n",
       " 'callable',\n",
       " 'chr',\n",
       " 'classmethod',\n",
       " 'compile',\n",
       " 'complex',\n",
       " 'copyright',\n",
       " 'credits',\n",
       " 'delattr',\n",
       " 'dict',\n",
       " 'dir',\n",
       " 'display',\n",
       " 'divmod',\n",
       " 'enumerate',\n",
       " 'eval',\n",
       " 'exec',\n",
       " 'filter',\n",
       " 'float',\n",
       " 'format',\n",
       " 'frozenset',\n",
       " 'get_ipython',\n",
       " 'getattr',\n",
       " 'globals',\n",
       " 'hasattr',\n",
       " 'hash',\n",
       " 'help',\n",
       " 'hex',\n",
       " 'id',\n",
       " 'input',\n",
       " 'int',\n",
       " 'isinstance',\n",
       " 'issubclass',\n",
       " 'iter',\n",
       " 'len',\n",
       " 'license',\n",
       " 'list',\n",
       " 'locals',\n",
       " 'map',\n",
       " 'max',\n",
       " 'memoryview',\n",
       " 'min',\n",
       " 'next',\n",
       " 'object',\n",
       " 'oct',\n",
       " 'open',\n",
       " 'ord',\n",
       " 'pow',\n",
       " 'print',\n",
       " 'property',\n",
       " 'range',\n",
       " 'repr',\n",
       " 'reversed',\n",
       " 'round',\n",
       " 'set',\n",
       " 'setattr',\n",
       " 'slice',\n",
       " 'sorted',\n",
       " 'staticmethod',\n",
       " 'str',\n",
       " 'sum',\n",
       " 'super',\n",
       " 'tuple',\n",
       " 'type',\n",
       " 'vars',\n",
       " 'zip']"
      ]
     },
     "metadata": {},
     "execution_count": 4
    }
   ],
   "source": [
    "dir(__builtins__)"
   ]
  },
  {
   "source": [
    "Names that begin and end with two underscores (such as __lt__) should not be used. Python defines various special methods and variables that use such names\n",
    "-"
   ],
   "cell_type": "markdown",
   "metadata": {}
  },
  {
   "source": [
    "The easiest way to check whether something is a valid identifier is to try to\n",
    "assign to it in an interactive Python interpreter:"
   ],
   "cell_type": "markdown",
   "metadata": {}
  },
  {
   "cell_type": "code",
   "execution_count": 11,
   "metadata": {},
   "outputs": [
    {
     "output_type": "error",
     "ename": "SyntaxError",
     "evalue": "cannot assign to operator (<ipython-input-11-76d7f333723d>, line 1)",
     "traceback": [
      "\u001b[1;36m  File \u001b[1;32m\"<ipython-input-11-76d7f333723d>\"\u001b[1;36m, line \u001b[1;32m1\u001b[0m\n\u001b[1;33m    stretch-factor = 1 #This assignment fails because “-” is not a Unicode letter, digit, or underscore.\u001b[0m\n\u001b[1;37m    ^\u001b[0m\n\u001b[1;31mSyntaxError\u001b[0m\u001b[1;31m:\u001b[0m cannot assign to operator\n"
     ]
    }
   ],
   "source": [
    "stretch-factor = 1 #This assignment fails because “-” is not a Unicode letter, digit, or underscore."
   ]
  },
  {
   "cell_type": "code",
   "execution_count": 7,
   "metadata": {},
   "outputs": [
    {
     "output_type": "error",
     "ename": "SyntaxError",
     "evalue": "invalid syntax (<ipython-input-7-8b2c5ddd52bf>, line 1)",
     "traceback": [
      "\u001b[1;36m  File \u001b[1;32m\"<ipython-input-7-8b2c5ddd52bf>\"\u001b[1;36m, line \u001b[1;32m1\u001b[0m\n\u001b[1;33m    2miles = 2\u001b[0m\n\u001b[1;37m     ^\u001b[0m\n\u001b[1;31mSyntaxError\u001b[0m\u001b[1;31m:\u001b[0m invalid syntax\n"
     ]
    }
   ],
   "source": [
    "2miles = 2 #fails because the start character is not a Unicode letter or underscore"
   ]
  },
  {
   "cell_type": "code",
   "execution_count": 8,
   "metadata": {},
   "outputs": [],
   "source": [
    "str = 3 # Legal but BAD"
   ]
  },
  {
   "cell_type": "code",
   "execution_count": 9,
   "metadata": {},
   "outputs": [
    {
     "output_type": "error",
     "ename": "SyntaxError",
     "evalue": "EOL while scanning string literal (<ipython-input-9-3731f1bc0fe5>, line 1)",
     "traceback": [
      "\u001b[1;36m  File \u001b[1;32m\"<ipython-input-9-3731f1bc0fe5>\"\u001b[1;36m, line \u001b[1;32m1\u001b[0m\n\u001b[1;33m    l'impôt31 = 4\u001b[0m\n\u001b[1;37m                 ^\u001b[0m\n\u001b[1;31mSyntaxError\u001b[0m\u001b[1;31m:\u001b[0m EOL while scanning string literal\n"
     ]
    }
   ],
   "source": [
    "l'impôt31 = 4 #fails because a quote is not a Unicode letter, digit, or underscore"
   ]
  },
  {
   "cell_type": "code",
   "execution_count": 10,
   "metadata": {},
   "outputs": [],
   "source": [
    "l_impôt31 = 5 #this is fine"
   ]
  },
  {
   "source": [
    "Integral Types\n",
    "=\n",
    "When used in Boolean expressions, 0 and False\n",
    "are False, and any other integer and True are True. When used in numerical\n",
    "expressions True evaluates to 1 and False to 0."
   ],
   "cell_type": "markdown",
   "metadata": {}
  },
  {
   "source": [
    "Syntax Description\n",
    "x + y Adds number x and number y\n",
    "\n",
    "x - y Subtracts y from x\n",
    "\n",
    "x * y Multiplies x by y\n",
    "\n",
    "x / y Divides x by y; always produces a float (or a complex if x or y\n",
    "is complex)\n",
    "\n",
    "x // y Divides x by y; truncates any fractional part so always produces\n",
    "an int result; see also the round() function\n",
    "\n",
    "x % y Produces the modulus (remainder) of dividing x by y\n",
    "\n",
    "x ** y Raises x to the power of y; see also the pow() functions\n",
    "\n",
    "-x  changes x’s sign if nonzero, does nothing if zero\n",
    "\n",
    "+x Does nothing; is sometimes used to clarify code\n",
    "\n",
    "abs(x) Returns the absolute value of x\n",
    "\n",
    "divmod(x, y) Returns the quotient and remainder of dividing x by y as a tuple of two ints\n",
    "\n",
    "pow(x, y) Raises x to the power of y; the same as the ** operator\n",
    "\n",
    "pow(x, y, z) A faster alternative to (x ** y) % z\n",
    "\n",
    "round(x, n) Returns x rounded to n integral digits if n is a negative int or returns x rounded to n decimal places if n is a positive int; the returned value has the same type as x; see the text\n",
    "\n",
    "bin(i) Returns the binary representation of int i as a string, e.g., bin(1980) == '0b11110111100'\n",
    "\n",
    "hex(i) Returns the hexadecimal representation of i as a string, e.g., hex(1980) == '0x7bc'\n",
    "\n",
    "int(x) Converts object x to an integer; raises ValueError on failure—or TypeError if x’s data type does not support integer conversion. If x is a floating-point number it is truncated.\n",
    "\n",
    "int(s, base) Converts str s to an integer; raises ValueError on failure. If the optional base argument is given it should be an integer between 2 and 36 inclusive.\n",
    "\n",
    "oct(i) Returns the octal representation of i as a string, e.g. oct(1980) == '0o3674'"
   ],
   "cell_type": "code",
   "metadata": {},
   "execution_count": null,
   "outputs": []
  },
  {
   "cell_type": "code",
   "execution_count": 21,
   "metadata": {},
   "outputs": [
    {
     "output_type": "execute_result",
     "data": {
      "text/plain": [
       "(3, 1)"
      ]
     },
     "metadata": {},
     "execution_count": 21
    }
   ],
   "source": [
    "divmod(16, 5)"
   ]
  },
  {
   "source": [
    "Binary numbers are written with a leading 0b, octal numbers with a leading 0o,★ and hexadecimal numbers with a leading 0x. Uppercase letters can also be used.\n",
    "-"
   ],
   "cell_type": "markdown",
   "metadata": {}
  },
  {
   "source": [
    "When a negative rounding value is used on integers a subtle and useful behavior is achieved—for\n",
    "example, round(13579, -3) produces 14000, and round(34.8, -1) produces 30.0."
   ],
   "cell_type": "markdown",
   "metadata": {}
  },
  {
   "source": [
    "Bitwise operators are operators (just like +, *, &&, etc.) that operate on ints and uints at the binary level. This means they look directly at the binary digits or bits of an integer\n",
    "-"
   ],
   "cell_type": "markdown",
   "metadata": {}
  },
  {
   "cell_type": "code",
   "execution_count": null,
   "metadata": {},
   "outputs": [],
   "source": [
    "Syntax Description\n",
    "i & j Bitwise AND of i and j\n",
    "Normally, ints take up 4 bytes or 32 bits of space. This means each int is stored as 32 binary digits\n",
    "The & operator compares each binary digit of two integers and returns a new integer, with a 1 wherever both numbers had a 1 and a 0 anywhere else. \n",
    "\n",
    "\n",
    "\n",
    "i | j Bitwise OR of int i and int j; negative numbers are assumed to be represented using 2’s complement\n",
    "\n",
    "i ^ j Bitwise XOR (exclusive or) of i and j\n",
    "\n",
    "i << j Shifts i left by j bits; like i * (2 ** j) without overflow checking\n",
    "\n",
    "i >> j Shifts i right by j bits; like i // (2 ** j) without overflow checking\n",
    "\n",
    "~i Inverts i’s bits"
   ]
  },
  {
   "source": [
    "Booleans\n",
    "=\n",
    "Python provides three logical operators: and, or, and not.\n",
    "Both and and or use short-circuit logic and return the operand that determined\n",
    "the result, whereas not always returns either True or False.\n",
    "Programmers who have been using older versions of Python sometimes use\n",
    "1 and 0 instead of True and False; this almost always works fine, but new code\n",
    "should use the built-in Boolean objects when a Boolean value is required."
   ],
   "cell_type": "markdown",
   "metadata": {}
  },
  {
   "source": [
    "Floating-Point Types\n",
    "=\n",
    "Python provides three kinds of floating-point values: the built-in float and\n",
    "complex types,and the decimal.Decimal type from the standard library. Computers natively represent floating-point numbers using base 2—this\n",
    "means that some decimals can be represented exactly (such as 0.5), but others\n",
    "only approximately (such as 0.1and 0.2)."
   ],
   "cell_type": "markdown",
   "metadata": {}
  },
  {
   "source": [
    "If we need really high precision there are two approaches we can take. One\n",
    "approach is to use ints—for example, working in terms of pennies or tenths of\n",
    "a penny or similar—and scale the numbers when necessary. This requires us\n",
    "to be quite careful, especially when dividing or taking percentages. The other\n",
    "approach is to use Python’s decimal.Decimal numbers from the decimal module."
   ],
   "cell_type": "markdown",
   "metadata": {}
  },
  {
   "source": [
    "Mixed mode arithmetic is supported such that using an int and a float produces\n",
    "a float, and using a float and a complex produces a complex. Because decimal.\n",
    "Decimals are of fixed precision they can be used only with other decimal.\n",
    "Decimals and with ints, in the latter case producing a decimal.Decimal result."
   ],
   "cell_type": "markdown",
   "metadata": {}
  },
  {
   "source": [
    "It is possible that NaN (“not a number”) or “infinity” may be produced by a calculation involving floats—unfortunately the behavior is not consistent across implementations and may differ depending on the system’s underlying math library."
   ],
   "cell_type": "markdown",
   "metadata": {}
  },
  {
   "source": [
    "Here is a simple function for comparing floats for equality to the limit of the machine’s accuracy:\n",
    "-"
   ],
   "cell_type": "markdown",
   "metadata": {}
  },
  {
   "cell_type": "code",
   "execution_count": 84,
   "metadata": {},
   "outputs": [],
   "source": [
    "import sys\n",
    "\n",
    "def equal_float(a, b):\n",
    "    return abs(a - b) <= sys.float_info.epsilon"
   ]
  },
  {
   "cell_type": "code",
   "execution_count": 86,
   "metadata": {},
   "outputs": [
    {
     "output_type": "execute_result",
     "data": {
      "text/plain": [
       "sys.float_info(max=1.7976931348623157e+308, max_exp=1024, max_10_exp=308, min=2.2250738585072014e-308, min_exp=-1021, min_10_exp=-307, dig=15, mant_dig=53, epsilon=2.220446049250313e-16, radix=2, rounds=1)"
      ]
     },
     "metadata": {},
     "execution_count": 86
    }
   ],
   "source": [
    "sys.float_info"
   ]
  },
  {
   "source": [
    "Floating-point numbers can be converted to integers using the int() function which returns the whole part and throws away the fractional part, or using round() which accounts for the fractional part, or using math.floor() or math.ceil() which convert down to or up to the nearest integer.\n",
    "-"
   ],
   "cell_type": "markdown",
   "metadata": {}
  },
  {
   "source": [
    "Complex Numbers\n",
    "=\n",
    "Literal complex numbers are written with the real and imaginary parts joined by a + or - sign, and with the imaginary part followed by a j. The separate parts of a complex are available as attributes real and imag. For example:"
   ],
   "cell_type": "markdown",
   "metadata": {}
  },
  {
   "cell_type": "code",
   "execution_count": 87,
   "metadata": {},
   "outputs": [
    {
     "output_type": "execute_result",
     "data": {
      "text/plain": [
       "(-89.5, 2.125)"
      ]
     },
     "metadata": {},
     "execution_count": 87
    }
   ],
   "source": [
    "z = -89.5+2.125j\n",
    "z.real, z.imag"
   ]
  },
  {
   "source": [
    "Except for //, %, divmod(), and the three-argument pow(), all the numeric operators and functions can be used with complex numbers, and so can the augmented assignment versions."
   ],
   "cell_type": "markdown",
   "metadata": {}
  },
  {
   "source": [
    "Decimal Numbers\n",
    "=\n",
    "The decimal module provides\n",
    "immutable Decimal numbers that are as accurate as we specify. Calculations\n",
    "involving Decimals are slower than those involving floats, but whether this is\n",
    "noticeable will depend on the application.\n"
   ],
   "cell_type": "markdown",
   "metadata": {}
  },
  {
   "cell_type": "code",
   "execution_count": 88,
   "metadata": {},
   "outputs": [
    {
     "output_type": "execute_result",
     "data": {
      "text/plain": [
       "Decimal('64197.012345678987654321')"
      ]
     },
     "metadata": {},
     "execution_count": 88
    }
   ],
   "source": [
    "import decimal\n",
    "a = decimal.Decimal(9876)\n",
    "b = decimal.Decimal(\"54321.012345678987654321\") #This function can take an integer or a string argument but not a float\n",
    "a + b"
   ]
  },
  {
   "source": [
    "From Python 3.1 it is possible to convert floats to decimals using the deci- 3.1\n",
    "mal.Decimal.from_float() function. This function takes a float as argument\n",
    "and returns the decimal.Decimal that is closest to the number the float approximates."
   ],
   "cell_type": "markdown",
   "metadata": {}
  },
  {
   "source": [
    "The math and cmath modules are not suitable for use with decimal.Decimals,\n",
    "but some of the functions provided by the math module are provided as decimal.\n",
    "Decimal methods. For example, to calculate ex where x is a float, we write\n",
    "math.exp(x), but where x is a decimal.Decimal, we write x.exp().\n",
    "\n",
    "The decimal.Decimal data type also provides ln() which calculates the natural\n",
    "(base e) logarithm (just like math.log() with one argument), log10(), and sqrt(),\n",
    "along with many other methods specific to the decimal.Decimal data type."
   ],
   "cell_type": "markdown",
   "metadata": {}
  },
  {
   "source": [
    "When we call print() on the result of decimal.Decimal(23) / decimal.\n",
    "Decimal(\"1.05\") the bare number is printed—this output is in string form.\n",
    "If we simply enter the expression we get a decimal.Decimal output—this output\n",
    "is in representational form.\n",
    "\n",
    "All Python objects have two output forms. String\n",
    "form is designed to be human-readable. Representational form is designed to\n",
    "produce output that if fed to a Python interpreter would (when possible) reproduce\n",
    "the represented object."
   ],
   "cell_type": "markdown",
   "metadata": {}
  },
  {
   "source": [
    "Strings\n",
    "=\n",
    "\n",
    "String literals are created using quotes, and we\n",
    "are free to use single or double quotes providing we use the same at both ends.\n",
    "\n",
    "\n",
    "We can also use a triple quoted string — this is Python-speak for a string\n",
    "that begins and ends with three quote characters (either three single quotes or\n",
    "three double quotes). For example:"
   ],
   "cell_type": "markdown",
   "metadata": {}
  },
  {
   "cell_type": "code",
   "execution_count": 94,
   "metadata": {},
   "outputs": [
    {
     "output_type": "execute_result",
     "data": {
      "text/plain": [
       "'A triple quoted string like this can include \\'quotes\\' and\\n\"quotes\" without formality. We can also escape newlines so this particular string is actually only two lines long.'"
      ]
     },
     "metadata": {},
     "execution_count": 94
    }
   ],
   "source": [
    "text = \"\"\"A triple quoted string like this can include 'quotes' and\n",
    "\"quotes\" without formality. We can also escape newlines \\\n",
    "so this particular string is actually only two lines long.\"\"\"\n",
    "\n",
    "text"
   ]
  },
  {
   "source": [
    "Escape Meaning\n",
    "\\newline Escape (i.e., ignore) the newline\n",
    "\\\\ Backslash (\\)\n",
    "\\' Single quote (’)\n",
    "\\\" Double quote (\")\n",
    "\\a ASCII bell (BEL)\n",
    "\\b ASCII backspace (BS)\n",
    "\\f ASCII formfeed (FF)\n",
    "\\n ASCII linefeed (LF)\n",
    "\\N{name} Unicode character with the given name\n",
    "\\ooo Character with the given octal value\n",
    "\\r ASCII carriage return (CR)\n",
    "\\t ASCII tab (TAB)\n",
    "\\uhhhh Unicode character with the given 16-bit hexadecimal value\n",
    "\\Uhhhhhhhh Unicode character with the given 32-bit hexadecimal value\n",
    "\\v ASCII vertical tab (VT)\n",
    "\\xhh Character with the given 8-bit hexadecimal value"
   ],
   "cell_type": "code",
   "metadata": {},
   "execution_count": null,
   "outputs": []
  },
  {
   "source": [
    "If we want to use quotes inside a normal quoted string we can do so without\n",
    "formality if they are different from the delimiting quotes; otherwise, we must\n",
    "escape them:"
   ],
   "cell_type": "markdown",
   "metadata": {}
  },
  {
   "cell_type": "code",
   "execution_count": 95,
   "metadata": {},
   "outputs": [],
   "source": [
    "a = \"Single 'quotes' are fine; \\\"doubles\\\" must be escaped.\"\n",
    "b = 'Single \\'quotes\\' must be escaped; \"doubles\" are fine.'"
   ]
  },
  {
   "cell_type": "code",
   "execution_count": 2,
   "metadata": {},
   "outputs": [
    {
     "output_type": "execute_result",
     "data": {
      "text/plain": [
       "re.compile(r'^((?:[(]\\d+[)])?\\s*\\d+(?:-\\d+)?)$', re.UNICODE)"
      ]
     },
     "metadata": {},
     "execution_count": 2
    }
   ],
   "source": [
    "import re\n",
    "phone1 = re.compile(\"^((?:[(]\\\\d+[)])?\\\\s*\\\\d+(?:-\\\\d+)?)$\") #\\\\ escapes required to write backslashes into this string\n",
    "phone1"
   ]
  },
  {
   "cell_type": "code",
   "execution_count": 3,
   "metadata": {},
   "outputs": [
    {
     "output_type": "execute_result",
     "data": {
      "text/plain": [
       "re.compile(r'^((?:[(]\\d+[)])?\\s*\\d+(?:-\\d+)?)$', re.UNICODE)"
      ]
     },
     "metadata": {},
     "execution_count": 3
    }
   ],
   "source": [
    "phone2 = re.compile(r\"^((?:[(]\\d+[)])?\\s*\\d+(?:-\\d+)?)$\") #by using a raw string r\"example\", escaping is not neccesary\n",
    "phone2"
   ]
  },
  {
   "cell_type": "code",
   "execution_count": 4,
   "metadata": {},
   "outputs": [],
   "source": [
    "t = \"This is not the best way to join two long strings \" + \\\n",
    "\"together since it relies on ugly newline escaping\"\n",
    "\n",
    "s = (\"This is the nice way to join two long strings \"\n",
    "\"together; it relies on string literal concatenation.\")"
   ]
  },
  {
   "source": [
    "Slicing and Striding Strings\n",
    "-\n",
    "We know from Piece #3 that individual items in a sequence, and therefore individual\n",
    "characters in a string, can be extracted using the item access operator\n",
    "([]). In fact, this operator is much more versatile and can be used to extract not\n",
    "just one item or character, but an entire slice (subsequence) of items or characters,\n",
    "in which context it is referred to as the slice operator.\n",
    "\n",
    "Index\n",
    "positions into a string begin at 0 and go up to the length of the string minus\n",
    "1. But it is also possible to use negative index positions—these count from the\n",
    "last character back toward the first."
   ],
   "cell_type": "markdown",
   "metadata": {}
  },
  {
   "source": [
    "The slice operator has three syntaxes:\n",
    "seq[start]\n",
    "seq[start:end]\n",
    "seq[start:end:step]\n",
    "\n",
    "Stepping by -1 will extract every character backwards:\n",
    "seq[::-1]"
   ],
   "cell_type": "code",
   "metadata": {},
   "execution_count": null,
   "outputs": []
  },
  {
   "source": [
    "String operators and methods\n",
    "-\n",
    "The str.join() method is good for joining lots of strings. The method takes a sequence as an argument (e.g., a list or tuple of strings), and joins them together into a single string with the\n",
    "string the method was called on between each one."
   ],
   "cell_type": "markdown",
   "metadata": {}
  },
  {
   "cell_type": "code",
   "execution_count": 6,
   "metadata": {},
   "outputs": [
    {
     "output_type": "execute_result",
     "data": {
      "text/plain": [
       "'ArithmeticaConicsElements'"
      ]
     },
     "metadata": {},
     "execution_count": 6
    }
   ],
   "source": [
    "treatises = [\"Arithmetica\", \"Conics\", \"Elements\"]\n",
    "\n",
    "\" \".join(treatises)\n",
    "'Arithmetica Conics Elements'\n",
    "\n",
    "\"-<>-\".join(treatises)\n",
    "'Arithmetica-<>-Conics-<>-Elements'\n",
    "\n",
    "\"\".join(treatises)\n",
    "'ArithmeticaConicsElements'"
   ]
  },
  {
   "source": [
    "The * operator provides string replication:"
   ],
   "cell_type": "markdown",
   "metadata": {}
  },
  {
   "cell_type": "code",
   "execution_count": 7,
   "metadata": {},
   "outputs": [
    {
     "output_type": "stream",
     "name": "stdout",
     "text": [
      "=====\n"
     ]
    }
   ],
   "source": [
    "s = \"=\" * 5\n",
    "print(s)"
   ]
  },
  {
   "cell_type": "code",
   "execution_count": 8,
   "metadata": {},
   "outputs": [
    {
     "output_type": "stream",
     "name": "stdout",
     "text": [
      "==================================================\n"
     ]
    }
   ],
   "source": [
    "s *= 10\n",
    "print(s)"
   ]
  },
  {
   "source": [
    "When applied to strings, the in membership operator returns True if its lefthand\n",
    "string argument is a substring of, or equal to, its right-hand string argument.\n",
    "\n",
    "In cases where we want to find the position of one string inside another, we\n",
    "have two methods to choose from. One is the str.index() method; this returns\n",
    "the index position of the substring, or raises a ValueError exception on failure.\n",
    "\n",
    "The other is the str.find() method; this returns the index position of the substring,\n",
    "or -1 on failure."
   ],
   "cell_type": "markdown",
   "metadata": {}
  },
  {
   "source": [
    "If we are looking for multiple index positions, using the str.index() rather than str.find()\n",
    "method often produces cleaner code, as the following two equivalent functions\n",
    "illustrate:"
   ],
   "cell_type": "markdown",
   "metadata": {}
  },
  {
   "cell_type": "code",
   "execution_count": 9,
   "metadata": {},
   "outputs": [],
   "source": [
    "def extract_from_tag(tag, line):\n",
    "    opener = \"<\" + tag + \">\"\n",
    "    closer = \"</\" + tag + \">\"\n",
    "    try:\n",
    "        i = line.index(opener)\n",
    "        start = i + len(opener)\n",
    "        j = line.index(closer, start)\n",
    "        return line[start:j]\n",
    "    except ValueError:\n",
    "        return None"
   ]
  },
  {
   "cell_type": "code",
   "execution_count": 10,
   "metadata": {},
   "outputs": [],
   "source": [
    "def extract_from_tag(tag, line):\n",
    "    opener = \"<\" + tag + \">\"\n",
    "    closer = \"</\" + tag + \">\"\n",
    "    i = line.find(opener)\n",
    "    if i != -1:\n",
    "        start = i + len(opener)\n",
    "        j = line.find(closer, start)\n",
    "        if j != -1:\n",
    "            return line[start:j]\n",
    "    return None"
   ]
  },
  {
   "cell_type": "code",
   "execution_count": 11,
   "metadata": {},
   "outputs": [
    {
     "output_type": "execute_result",
     "data": {
      "text/plain": [
       "['Leo Tolstoy', '1828-8-28', '1910-11-20']"
      ]
     },
     "metadata": {},
     "execution_count": 11
    }
   ],
   "source": [
    "record = \"Leo Tolstoy*1828-8-28*1910-11-20\"\n",
    "fields = record.split(\"*\")\n",
    "fields"
   ]
  },
  {
   "cell_type": "code",
   "execution_count": 13,
   "metadata": {},
   "outputs": [
    {
     "output_type": "stream",
     "name": "stdout",
     "text": [
      "['1828', '8', '28']\nlived about 82 years\n"
     ]
    }
   ],
   "source": [
    "born = fields[1].split(\"-\")\n",
    "print(born)\n",
    "\n",
    "died = fields[2].split(\"-\")\n",
    "print(\"lived about\", int(died[0]) - int(born[0]), \"years\")"
   ]
  },
  {
   "source": [
    "The str.maketrans() method is used to\n",
    "create a translation table which maps characters to characters. It accepts one,\n",
    "two, or three arguments, but we will show only the simplest (two argument)\n",
    "call where the first argument is a string containing characters to translate from\n",
    "and the second argument is a string containing the characters to translate to.\n",
    "\n",
    "Both arguments must be the same length. The str.translate() method takes\n",
    "a translation table as an argument and returns a copy of its string with the\n",
    "characters translated according to the translation table. Here is how we could\n",
    "translate strings that might contain Bengali digits to English digits:"
   ],
   "cell_type": "markdown",
   "metadata": {}
  },
  {
   "cell_type": "code",
   "execution_count": 14,
   "metadata": {},
   "outputs": [
    {
     "output_type": "stream",
     "name": "stdout",
     "text": [
      "20749\n20749\n"
     ]
    }
   ],
   "source": [
    "table = \"\".maketrans(\"\\N{bengali digit zero}\"\n",
    "    \"\\N{bengali digit one}\\N{bengali digit two}\"\n",
    "    \"\\N{bengali digit three}\\N{bengali digit four}\"\n",
    "    \"\\N{bengali digit five}\\N{bengali digit six}\"\n",
    "    \"\\N{bengali digit seven}\\N{bengali digit eight}\"\n",
    "    \"\\N{bengali digit nine}\", \"0123456789\")\n",
    "    \n",
    "print(\"20749\".translate(table)) # prints: 20749\n",
    "print(\"\\N{bengali digit two}07\\N{bengali digit four}\"\n",
    "    \"\\N{bengali digit nine}\".translate(table)) # prints: 20749"
   ]
  },
  {
   "source": [
    "The str.maketrans() and str.translate() methods can also be used\n",
    "to delete characters by passing a string containing the unwanted characters as\n",
    "the third argument to str.maketrans()."
   ],
   "cell_type": "markdown",
   "metadata": {}
  },
  {
   "source": [
    "String Formatting with the str.format() Method\n",
    "-\n",
    "The str.format() method provides a very flexible and powerful way of creating\n",
    "strings. Using str.format() is easy for simple cases, but for complex formatting\n",
    "we need to learn the formatting syntax the method requires\n",
    "\n",
    "The str.format() method returns a new string with the replacement fields in\n",
    "its string replaced with its arguments suitably formatted. For example:"
   ],
   "cell_type": "markdown",
   "metadata": {}
  },
  {
   "cell_type": "code",
   "execution_count": 17,
   "metadata": {},
   "outputs": [
    {
     "output_type": "execute_result",
     "data": {
      "text/plain": [
       "\"The novel 'Hard Times' was published in 1854\""
      ]
     },
     "metadata": {},
     "execution_count": 17
    }
   ],
   "source": [
    "\"The novel '{0}' was published in {1}\".format(\"Hard Times\", 1854)"
   ]
  },
  {
   "source": [
    "If we need to include braces inside format strings, we can do so by doubling\n",
    "them up. Here is an example:\n"
   ],
   "cell_type": "markdown",
   "metadata": {}
  },
  {
   "cell_type": "code",
   "execution_count": 18,
   "metadata": {},
   "outputs": [
    {
     "output_type": "execute_result",
     "data": {
      "text/plain": [
       "\"{I'm in braces} I'm not ;-}\""
      ]
     },
     "metadata": {},
     "execution_count": 18
    }
   ],
   "source": [
    "\"{{{0}}} {1} ;-}}\".format(\"I'm in braces\", \"I'm not\")\n"
   ]
  },
  {
   "source": [
    "If we try to concatenate a string and a number, Python will quite rightly raise\n",
    "a TypeError. But we can easily achieve what we want using str.format():"
   ],
   "cell_type": "markdown",
   "metadata": {}
  },
  {
   "cell_type": "code",
   "execution_count": 19,
   "metadata": {},
   "outputs": [
    {
     "output_type": "execute_result",
     "data": {
      "text/plain": [
       "'The amount due is $200'"
      ]
     },
     "metadata": {},
     "execution_count": 19
    }
   ],
   "source": [
    "\"{0}{1}\".format(\"The amount due is $\", 200)"
   ]
  },
  {
   "source": [
    "One other point to note is that replacement fields can contain replacement\n",
    "fields. Nested replacement fields cannot have any formatting; their purpose is\n",
    "to allow for computed formatting specifications. We will see an example of this"
   ],
   "cell_type": "markdown",
   "metadata": {}
  },
  {
   "source": [
    "Field Names\n",
    "-\n",
    "A field name can be either an integer corresponding to one of the str.format()\n",
    "method’s arguments, or the name of one of the method’s keyword arguments.\n",
    "We discuss keyword arguments in Chapter 4, but they are not difficult, so we\n",
    "will provide a couple of examples here for completeness:"
   ],
   "cell_type": "markdown",
   "metadata": {}
  },
  {
   "cell_type": "code",
   "execution_count": 22,
   "metadata": {},
   "outputs": [
    {
     "output_type": "execute_result",
     "data": {
      "text/plain": [
       "'She turned 88 this year'"
      ]
     },
     "metadata": {},
     "execution_count": 22
    }
   ],
   "source": [
    "\"{who} turned {age} this year\".format(who=\"She\", age=88)"
   ]
  },
  {
   "cell_type": "code",
   "execution_count": 25,
   "metadata": {},
   "outputs": [
    {
     "output_type": "execute_result",
     "data": {
      "text/plain": [
       "'The boy was 12 last week'"
      ]
     },
     "metadata": {},
     "execution_count": 25
    }
   ],
   "source": [
    "\"The {who} was {0} last week\".format(12, who=\"boy\")"
   ]
  },
  {
   "source": [
    "Notice that in an argument list, keyword\n",
    "arguments always come after positional arguments;and of course we can make\n",
    "use of any arguments in any order inside the format string."
   ],
   "cell_type": "markdown",
   "metadata": {}
  },
  {
   "source": [
    "Field names may refer to collection data types—for example, lists. In such\n",
    "cases we can include an index (not a slice!) to identify a particular item:"
   ],
   "cell_type": "markdown",
   "metadata": {}
  },
  {
   "cell_type": "code",
   "execution_count": 26,
   "metadata": {},
   "outputs": [
    {
     "output_type": "execute_result",
     "data": {
      "text/plain": [
       "'We have envelopes and notepads in stock'"
      ]
     },
     "metadata": {},
     "execution_count": 26
    }
   ],
   "source": [
    "stock = [\"paper\", \"envelopes\", \"notepads\", \"pens\", \"paper clips\"]\n",
    "\"We have {0[1]} and {0[2]} in stock\".format(stock)\n"
   ]
  },
  {
   "source": [
    "Later on we will learn about Python dictionaries. These store key–value items,\n",
    "and since they can be used with str.format(), we’ll just show a quick example\n",
    "here. Don’t worry if it doesn’t make sense; it will once you’ve read Chapter 3:"
   ],
   "cell_type": "markdown",
   "metadata": {}
  },
  {
   "cell_type": "code",
   "execution_count": 28,
   "metadata": {},
   "outputs": [
    {
     "output_type": "execute_result",
     "data": {
      "text/plain": [
       "'The elephant weighs 12000kg'"
      ]
     },
     "metadata": {},
     "execution_count": 28
    }
   ],
   "source": [
    "d = dict(animal=\"elephant\", weight=12000)\n",
    "\n",
    "\"The {0[animal]} weighs {0[weight]}kg\".format(d)\n"
   ]
  },
  {
   "source": [
    "We can also access named attributes with dot notation. Assuming we have imported the math and\n",
    "sys modules, we can do this:"
   ],
   "cell_type": "markdown",
   "metadata": {}
  },
  {
   "cell_type": "code",
   "execution_count": 30,
   "metadata": {},
   "outputs": [
    {
     "output_type": "execute_result",
     "data": {
      "text/plain": [
       "'math.pi==3.141592653589793 sys.maxunicode==1114111'"
      ]
     },
     "metadata": {},
     "execution_count": 30
    }
   ],
   "source": [
    "import math\n",
    "\"math.pi=={0.pi} sys.maxunicode=={1.maxunicode}\".format(math, sys)"
   ]
  },
  {
   "source": [
    "So in summary, the field name syntax allows us to refer to positional and keyword\n",
    "arguments that are passed to the str.format() method. If the arguments\n",
    "are collection data types like lists or dictionaries, or have attributes,we can access\n",
    "the part we want using [] or . notation"
   ],
   "cell_type": "markdown",
   "metadata": {}
  },
  {
   "source": [
    "From Python 3.1 it is possible to omit field names, in which case Python will in\n",
    "effect put them in for us, using numbers starting from 0. For example:"
   ],
   "cell_type": "markdown",
   "metadata": {}
  },
  {
   "cell_type": "code",
   "execution_count": 31,
   "metadata": {},
   "outputs": [
    {
     "output_type": "execute_result",
     "data": {
      "text/plain": [
       "'Python can count'"
      ]
     },
     "metadata": {},
     "execution_count": 31
    }
   ],
   "source": [
    "\"{} {} {}\".format(\"Python\", \"can\", \"count\")\n"
   ]
  },
  {
   "source": [
    "The local variables that are currently in scope are available from the built-in\n",
    "locals() function. This function returns a dictionary whose Mapping\n",
    "keys are local variable names and whose values are references to the variables’ values. Now\n",
    "we can use mapping unpacking to feed this dictionary into the str.format()\n",
    "method. The mapping unpacking operator is ** and it can be applied to a\n",
    "mapping (such as a dictionary) to produce a key–value list suitable for passing\n",
    "to a function. For example:"
   ],
   "cell_type": "markdown",
   "metadata": {}
  },
  {
   "cell_type": "code",
   "execution_count": 34,
   "metadata": {},
   "outputs": [
    {
     "output_type": "execute_result",
     "data": {
      "text/plain": [
       "'Element 47 is Silver'"
      ]
     },
     "metadata": {},
     "execution_count": 34
    }
   ],
   "source": [
    "element = \"Silver\"\n",
    "number = 47\n",
    "\"Element {number} is {element}\".format(**locals())\n"
   ]
  },
  {
   "source": [
    "Unpacking a dictionary into the str.format() method allows us to use the\n",
    "dictionary’s keys as field names. This makes string formats much easier to\n",
    "understand, and also easier to maintain, since they are not dependent on the\n",
    "order of the arguments. Note, however, that if we want to pass more than one\n",
    "argument to str.format(), only the last one can use mapping unpacking."
   ],
   "cell_type": "markdown",
   "metadata": {}
  },
  {
   "source": [
    "Conversions\n",
    "-\n",
    "it is possible to override a data type’s normal behavior and force it to provide either its string or its representational form. This is done by adding a conversion specifier to the field. \n",
    "\n",
    "Currently there\n",
    "are three such specifiers: s to force string form, r to force representational form, and a to force representational form but only using ASCII characters. Here is\n",
    "an example:"
   ],
   "cell_type": "markdown",
   "metadata": {}
  },
  {
   "cell_type": "code",
   "execution_count": 37,
   "metadata": {},
   "outputs": [
    {
     "output_type": "execute_result",
     "data": {
      "text/plain": [
       "\"93.4 93.4 Decimal('93.4') Decimal('93.4')\""
      ]
     },
     "metadata": {},
     "execution_count": 37
    }
   ],
   "source": [
    "import decimal\n",
    "\"{0} {0!s} {0!r} {0!a}\".format(decimal.Decimal(\"93.4\"))"
   ]
  },
  {
   "cell_type": "code",
   "execution_count": 47,
   "metadata": {},
   "outputs": [],
   "source": [
    "movie = '\\u7ffb\\u8a33\\u3067\\u5931\\u308f\\u308c\\u308b'"
   ]
  },
  {
   "cell_type": "code",
   "execution_count": 48,
   "metadata": {},
   "outputs": [
    {
     "output_type": "execute_result",
     "data": {
      "text/plain": [
       "'翻訳で失われる'"
      ]
     },
     "metadata": {},
     "execution_count": 48
    }
   ],
   "source": [
    "\"{movie}\".format(**locals())"
   ]
  },
  {
   "cell_type": "code",
   "execution_count": 49,
   "metadata": {},
   "outputs": [
    {
     "output_type": "execute_result",
     "data": {
      "text/plain": [
       "\"'\\\\u7ffb\\\\u8a33\\\\u3067\\\\u5931\\\\u308f\\\\u308c\\\\u308b'\""
      ]
     },
     "metadata": {},
     "execution_count": 49
    }
   ],
   "source": [
    "\"{movie!a}\".format(**locals())"
   ]
  },
  {
   "source": [
    "Format Specifications\n",
    "-\n",
    "For strings, the things that we can control are the fill character, the alignment\n",
    "within the field, and the minimum and maximum field widths.\n",
    "\n",
    "A string format specification is introduced with a colon (:) and this is followed\n",
    "by an optional pair of characters—a fill character (which may not be }) and an\n",
    "alignment character (< for left align, ^ for center, > for right align). Then comes\n",
    "an optional minimum width integer, and if we want to specify a maximum\n",
    "width, this comes last as a period followed by an integer."
   ],
   "cell_type": "markdown",
   "metadata": {}
  },
  {
   "cell_type": "code",
   "execution_count": 51,
   "metadata": {},
   "outputs": [
    {
     "output_type": "execute_result",
     "data": {
      "text/plain": [
       "'The sword of truth'"
      ]
     },
     "metadata": {},
     "execution_count": 51
    }
   ],
   "source": [
    "s = \"The sword of truth\"\n",
    "\"{0}\".format(s) # default formatting"
   ]
  },
  {
   "cell_type": "code",
   "execution_count": 53,
   "metadata": {},
   "outputs": [
    {
     "output_type": "execute_result",
     "data": {
      "text/plain": [
       "'The sword of truth       '"
      ]
     },
     "metadata": {},
     "execution_count": 53
    }
   ],
   "source": [
    "\"{0:25}\".format(s) # minimum width 25"
   ]
  },
  {
   "cell_type": "code",
   "execution_count": 54,
   "metadata": {},
   "outputs": [
    {
     "output_type": "execute_result",
     "data": {
      "text/plain": [
       "'       The sword of truth'"
      ]
     },
     "metadata": {},
     "execution_count": 54
    }
   ],
   "source": [
    "\"{0:>25}\".format(s) # right align, minimum width 25"
   ]
  },
  {
   "cell_type": "code",
   "execution_count": 55,
   "metadata": {},
   "outputs": [
    {
     "output_type": "execute_result",
     "data": {
      "text/plain": [
       "'   The sword of truth    '"
      ]
     },
     "metadata": {},
     "execution_count": 55
    }
   ],
   "source": [
    "\"{0:^25}\".format(s) # center align, minimum width 25"
   ]
  },
  {
   "cell_type": "code",
   "execution_count": 56,
   "metadata": {},
   "outputs": [
    {
     "output_type": "execute_result",
     "data": {
      "text/plain": [
       "'---The sword of truth----'"
      ]
     },
     "metadata": {},
     "execution_count": 56
    }
   ],
   "source": [
    "\"{0:-^25}\".format(s) # - fill, center align, minimum width 25"
   ]
  },
  {
   "cell_type": "code",
   "execution_count": 57,
   "metadata": {},
   "outputs": [
    {
     "output_type": "execute_result",
     "data": {
      "text/plain": [
       "'The sword '"
      ]
     },
     "metadata": {},
     "execution_count": 57
    }
   ],
   "source": [
    "\"{0:.10}\".format(s) # maximum width 10"
   ]
  },
  {
   "source": [
    "As we noted earlier, it is possible to have replacement fields inside format specifications.\n",
    "This makesit possible to have computed formats. Here, for example,\n",
    "are two ways of setting a string’s maximum width using a maxwidth variable:"
   ],
   "cell_type": "markdown",
   "metadata": {}
  },
  {
   "cell_type": "code",
   "execution_count": 58,
   "metadata": {},
   "outputs": [
    {
     "output_type": "execute_result",
     "data": {
      "text/plain": [
       "'The sword of'"
      ]
     },
     "metadata": {},
     "execution_count": 58
    }
   ],
   "source": [
    "maxwidth = 12\n",
    "\"{0}\".format(s[:maxwidth])"
   ]
  },
  {
   "cell_type": "code",
   "execution_count": 59,
   "metadata": {},
   "outputs": [
    {
     "output_type": "execute_result",
     "data": {
      "text/plain": [
       "'The sword of'"
      ]
     },
     "metadata": {},
     "execution_count": 59
    }
   ],
   "source": [
    "\"{0:.{1}}\".format(s, maxwidth)"
   ]
  },
  {
   "source": [
    "Formatting integers\n",
    "-\n",
    "The format specification allows us to control the fill character, the\n",
    "alignment within the field, the sign, whether to use a nonlocale-aware comma\n",
    "separator to group digits (from Python 3.1), the minimum field width, and the\n",
    "number base.\n",
    "\n",
    "The optional sign character: + forces the output of the sign, - outputs the sign only for negative numbers, and a space outputs a space for positive numbers and a - sign for\n",
    "negative numbers. \n",
    "\n",
    "Then comes an optional minimum width integer—this can\n",
    "be preceded by a # character to get the base prefix output (for binary, octal, and\n",
    "hexadecimal numbers), and by a 0 to get 0-padding.\n",
    "\n",
    "Then, from Python 3.1,\n",
    "comes an optional comma—if present this will cause the number’s digits to be\n",
    "grouped into threes with a comma separating each group\n",
    "\n",
    "If we want the output\n",
    "in a base other than decimal we must add a type character—b for binary,\n",
    "o for octal, x for lowercase hexadecimal, and X for uppercase hexadecimal, although\n",
    "for completeness, d for decimal integer is also allowed."
   ],
   "cell_type": "markdown",
   "metadata": {}
  },
  {
   "source": [
    "Example: print_unicode.py\n",
    "="
   ],
   "cell_type": "markdown",
   "metadata": {}
  }
 ]
}