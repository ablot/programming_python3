{
 "metadata": {
  "language_info": {
   "codemirror_mode": {
    "name": "ipython",
    "version": 3
   },
   "file_extension": ".py",
   "mimetype": "text/x-python",
   "name": "python",
   "nbconvert_exporter": "python",
   "pygments_lexer": "ipython3",
   "version": "3.8.5-final"
  },
  "orig_nbformat": 2,
  "kernelspec": {
   "name": "python3",
   "display_name": "Python 3.8.5 64-bit ('py385': conda)",
   "metadata": {
    "interpreter": {
     "hash": "6fee73a2166d05a5c61a936e76cd58928fe9214efe8240f7f034639b7857b544"
    }
   }
  }
 },
 "nbformat": 4,
 "nbformat_minor": 2,
 "cells": [
  {
   "cell_type": "code",
   "execution_count": 1,
   "metadata": {},
   "outputs": [
    {
     "output_type": "stream",
     "name": "stdout",
     "text": [
      "test\n"
     ]
    }
   ],
   "source": [
    "print(\"test\")"
   ]
  },
  {
   "cell_type": "code",
   "execution_count": 2,
   "metadata": {},
   "outputs": [],
   "source": [
    "x = \"blue\"\n",
    "y = \"green\"\n",
    "z = x"
   ]
  },
  {
   "source": [
    "Demonstration of object references"
   ],
   "cell_type": "markdown",
   "metadata": {}
  },
  {
   "cell_type": "code",
   "execution_count": 4,
   "metadata": {},
   "outputs": [
    {
     "output_type": "stream",
     "name": "stdout",
     "text": [
      "blue green green\nblue green green\ngreen green green\n"
     ]
    }
   ],
   "source": [
    "print(x, y, z) # prints: blue green blue\n",
    "z = y\n",
    "print(x, y, z) # prints: blue green green\n",
    "x = z\n",
    "print(x, y, z) # prints: green green green"
   ]
  },
  {
   "source": [
    "Demonstration of dynamic typing, route's type can be changed"
   ],
   "cell_type": "markdown",
   "metadata": {}
  },
  {
   "cell_type": "code",
   "execution_count": 6,
   "metadata": {},
   "outputs": [
    {
     "output_type": "stream",
     "name": "stdout",
     "text": [
      "866 <class 'int'>\nNorth <class 'str'>\n"
     ]
    }
   ],
   "source": [
    "route = 866\n",
    "print(route, type(route))\n",
    "\n",
    "route = \"North\"\n",
    "print(route, type(route))"
   ]
  },
  {
   "source": [
    "You can also just type an object reference's name to output its value, when using an interactive python interpreter"
   ],
   "cell_type": "markdown",
   "metadata": {}
  },
  {
   "cell_type": "code",
   "execution_count": 8,
   "metadata": {},
   "outputs": [
    {
     "output_type": "execute_result",
     "data": {
      "text/plain": [
       "'green'"
      ]
     },
     "metadata": {},
     "execution_count": 8
    }
   ],
   "source": [
    "x"
   ]
  },
  {
   "source": [
    "Python tuples and lists can be used to hold any number of data items of any data types\n",
    "-\n",
    "\n",
    "Tuples are immutable, so once they are created we cannot change them. Lists are mutable, so we can easily insert items and remove items whenever we want.\n",
    "-"
   ],
   "cell_type": "markdown",
   "metadata": {}
  },
  {
   "cell_type": "code",
   "execution_count": 9,
   "metadata": {},
   "outputs": [
    {
     "output_type": "execute_result",
     "data": {
      "text/plain": [
       "('Denmark', 'Finland', 'Norway', 'Sweden')"
      ]
     },
     "metadata": {},
     "execution_count": 9
    }
   ],
   "source": [
    "#Tuples\n",
    "\"Denmark\", \"Finland\", \"Norway\", \"Sweden\""
   ]
  },
  {
   "source": [
    "If we have a one-item tuple and want to use parentheses, we must still use\n",
    "the comma—for example, (1,). An empty tuple is created by using empty\n",
    "parentheses, ()."
   ],
   "cell_type": "markdown",
   "metadata": {}
  },
  {
   "cell_type": "code",
   "execution_count": 11,
   "metadata": {},
   "outputs": [
    {
     "output_type": "execute_result",
     "data": {
      "text/plain": [
       "['zebra', 49, -879, 'aardvark', 200]"
      ]
     },
     "metadata": {},
     "execution_count": 11
    }
   ],
   "source": [
    "#Lists\n",
    "[1, 4, 9, 16, 25, 36, 49]\n",
    "['alpha', 'bravo', 'charlie', 'delta', 'echo']\n",
    "['zebra', 49, -879, 'aardvark', 200]"
   ]
  },
  {
   "source": [
    "In some situations the fact that lists, tuples, and most of Python’s other collection data types hold object references rather than objects makes a difference—this is covered in Chapter 3.\n",
    "\n",
    "All Python data items are objects (also called instances) of a particular data type (also called a class)."
   ],
   "cell_type": "markdown",
   "metadata": {}
  },
  {
   "source": [
    "Object can have methods. Essentially, a method is simply a function that is called for a particular object.\n",
    "-"
   ],
   "cell_type": "markdown",
   "metadata": {}
  },
  {
   "cell_type": "code",
   "execution_count": 13,
   "metadata": {},
   "outputs": [
    {
     "output_type": "execute_result",
     "data": {
      "text/plain": [
       "['zebra', 49, -879, 'aardvark', 200, 'more']"
      ]
     },
     "metadata": {},
     "execution_count": 13
    }
   ],
   "source": [
    "#For example, one method for lists is append\n",
    "x = [\"zebra\", 49, -879, \"aardvark\", 200]\n",
    "x.append(\"more\")\n",
    "x"
   ]
  },
  {
   "source": [
    "The list type has many other methods, including insert() which is used to\n",
    "insert an item at a given index position,and remove() which removes an item ata given index position."
   ],
   "cell_type": "markdown",
   "metadata": {}
  },
  {
   "source": [
    "Since lists are mutable (unlike strings and tuples which are immutable),we can also use the square brackets operator to set list elements:"
   ],
   "cell_type": "markdown",
   "metadata": {}
  },
  {
   "cell_type": "code",
   "execution_count": 14,
   "metadata": {},
   "outputs": [
    {
     "output_type": "execute_result",
     "data": {
      "text/plain": [
       "['zebra', 'forty nine', -879, 'aardvark', 200, 'more']"
      ]
     },
     "metadata": {},
     "execution_count": 14
    }
   ],
   "source": [
    "x[1] = \"forty nine\"\n",
    "\n",
    "x"
   ]
  },
  {
   "source": [
    "Operators\n",
    "=\n",
    "\n",
    "The \"is\" operator is a binary operator that returns True if its left-hand object reference is referring to the same object as its right-hand object reference.\n",
    "-"
   ],
   "cell_type": "markdown",
   "metadata": {}
  },
  {
   "cell_type": "code",
   "execution_count": 16,
   "metadata": {},
   "outputs": [
    {
     "output_type": "execute_result",
     "data": {
      "text/plain": [
       "False"
      ]
     },
     "metadata": {},
     "execution_count": 16
    }
   ],
   "source": [
    "a = [\"Retention\", 3, None]\n",
    "b = [\"Retention\", 3, None]\n",
    "a is b"
   ]
  },
  {
   "cell_type": "code",
   "execution_count": 17,
   "metadata": {},
   "outputs": [
    {
     "output_type": "execute_result",
     "data": {
      "text/plain": [
       "True"
      ]
     },
     "metadata": {},
     "execution_count": 17
    }
   ],
   "source": [
    "b = a\n",
    "a is b"
   ]
  },
  {
   "source": [
    "Using is to compare data items can lead to unintuitive results, as we\n",
    "can see in the preceding example, where although a and b are initially set to\n",
    "the same list values, the lists themselves are held as separate list objects and\n",
    "so is returns False the first time we use it.\n",
    "\n",
    "The most common use case for is is to compare a data item with the built-in\n",
    "null object, None, which is often used as a place-marking value to signify\n",
    "“unknown” or “nonexistent”:"
   ],
   "cell_type": "markdown",
   "metadata": {}
  },
  {
   "cell_type": "code",
   "execution_count": 18,
   "metadata": {},
   "outputs": [
    {
     "output_type": "execute_result",
     "data": {
      "text/plain": [
       "(True, True)"
      ]
     },
     "metadata": {},
     "execution_count": 18
    }
   ],
   "source": [
    "a = \"Something\"\n",
    "b = None\n",
    "a is not None, b is None"
   ]
  },
  {
   "source": [
    "Python provides the standard set of binary comparison operators, with the expected semantics: < less than, <= less than or equal to, == equal to, != not equal to, >= greater than or equal to, and > greater than.\n",
    "-"
   ],
   "cell_type": "markdown",
   "metadata": {}
  },
  {
   "cell_type": "code",
   "execution_count": 19,
   "metadata": {},
   "outputs": [
    {
     "output_type": "execute_result",
     "data": {
      "text/plain": [
       "True"
      ]
     },
     "metadata": {},
     "execution_count": 19
    }
   ],
   "source": [
    "a = \"many paths\"\n",
    "b = \"many paths\"\n",
    "a == b"
   ]
  },
  {
   "source": [
    "One particularly nice feature of Python’s comparison operators is that they can\n",
    "be chained."
   ],
   "cell_type": "markdown",
   "metadata": {}
  },
  {
   "cell_type": "code",
   "execution_count": 20,
   "metadata": {},
   "outputs": [
    {
     "output_type": "execute_result",
     "data": {
      "text/plain": [
       "True"
      ]
     },
     "metadata": {},
     "execution_count": 20
    }
   ],
   "source": [
    "a = 9\n",
    "0 <= a <= 10"
   ]
  },
  {
   "source": [
    "For data types that are sequences or collections such as strings, lists, and tuples, we can test for membership using the in operator,and for nonmembership using the not in operator. For example:\n",
    "-"
   ],
   "cell_type": "markdown",
   "metadata": {}
  },
  {
   "cell_type": "code",
   "execution_count": 21,
   "metadata": {},
   "outputs": [
    {
     "output_type": "execute_result",
     "data": {
      "text/plain": [
       "True"
      ]
     },
     "metadata": {},
     "execution_count": 21
    }
   ],
   "source": [
    "p = (4, \"frog\", 9, -33, 9, 2)\n",
    "2 in p"
   ]
  },
  {
   "source": [
    "Python provides three logical operators: and, or, and not. Both \"and\" and \"or\" use short-circuit logic and return the operand that determined the result — they do not return a Boolean\n",
    "-"
   ],
   "cell_type": "markdown",
   "metadata": {}
  },
  {
   "cell_type": "code",
   "execution_count": 23,
   "metadata": {},
   "outputs": [
    {
     "output_type": "execute_result",
     "data": {
      "text/plain": [
       "2"
      ]
     },
     "metadata": {},
     "execution_count": 23
    }
   ],
   "source": [
    "five = 5\n",
    "two = 2\n",
    "zero = 0\n",
    "five and two"
   ]
  },
  {
   "cell_type": "code",
   "execution_count": 24,
   "metadata": {},
   "outputs": [
    {
     "output_type": "execute_result",
     "data": {
      "text/plain": [
       "5"
      ]
     },
     "metadata": {},
     "execution_count": 24
    }
   ],
   "source": [
    "five or two"
   ]
  },
  {
   "source": [
    "The not unary operator evaluates its argument in a Boolean context and\n",
    "always returns a Boolean result,"
   ],
   "cell_type": "markdown",
   "metadata": {}
  },
  {
   "cell_type": "code",
   "execution_count": 25,
   "metadata": {},
   "outputs": [
    {
     "output_type": "execute_result",
     "data": {
      "text/plain": [
       "True"
      ]
     },
     "metadata": {},
     "execution_count": 25
    }
   ],
   "source": [
    "not zero"
   ]
  },
  {
   "cell_type": "code",
   "execution_count": 26,
   "metadata": {},
   "outputs": [
    {
     "output_type": "execute_result",
     "data": {
      "text/plain": [
       "False"
      ]
     },
     "metadata": {},
     "execution_count": 26
    }
   ],
   "source": [
    "not two"
   ]
  },
  {
   "source": [
    "A Boolean expression is anything that can be evaluated to produce a Boolean\n",
    "value (True or False). In Python, such an expression evaluates to False if it is\n",
    "the predefined constant False, the special object None, an empty sequence or\n",
    "collection (e.g., an empty string, list, or tuple), or a numeric data item of value\n",
    "0; anything else is considered to be True."
   ],
   "cell_type": "markdown",
   "metadata": {}
  },
  {
   "source": [
    "The flow of control can be diverted by a function or method call or by a control structure, such as a conditional branch or a loop statement. Control is also diverted when an exception is raised.\n",
    "="
   ],
   "cell_type": "markdown",
   "metadata": {}
  },
  {
   "source": [
    "In Python-speak a block of code, that is, a sequence of one or more statements,\n",
    "is called a suite. Because some of Python’s syntax requires that a suite be\n",
    "present, Python provides the keyword pass which is a statement that does\n",
    "nothing and that can be used where a suite is required (or where we want to\n",
    "indicate that we have considered a particular case) but where no processing\n",
    "is necessary."
   ],
   "cell_type": "markdown",
   "metadata": {}
  },
  {
   "source": [
    "The if Statement\n",
    "=\n",
    "There can be zero or more elif clauses, and the final else clause is optional. If\n",
    "we want to account for a particular case, but want to do nothing if it occurs, we\n",
    "can use pass as that branch’s suite."
   ],
   "cell_type": "markdown",
   "metadata": {}
  },
  {
   "cell_type": "code",
   "execution_count": 29,
   "metadata": {},
   "outputs": [
    {
     "output_type": "stream",
     "name": "stdout",
     "text": [
      "medium\n"
     ]
    }
   ],
   "source": [
    "lines = 9001\n",
    "\n",
    "if lines < 1000:\n",
    "    print(\"small\")\n",
    "elif lines < 10000:\n",
    "    print(\"medium\")\n",
    "else:\n",
    "    print(\"large\")"
   ]
  },
  {
   "source": [
    "The while Statement\n",
    "=\n",
    "The while statement is used to execute a suite zero or more times, the number\n",
    "of times depending on the state of the while loop’s Boolean expression. The break statement switches control to the statement\n",
    "following the innermost loop in which the break statement appears—that is,\n",
    "it breaks out of the loop. The continue statement switches control to the start\n",
    "of the loop.\n",
    "Both break and continue are normally used inside if statements to conditionally change a loop’s behavior."
   ],
   "cell_type": "markdown",
   "metadata": {}
  },
  {
   "cell_type": "code",
   "execution_count": 36,
   "metadata": {},
   "outputs": [
    {
     "output_type": "error",
     "ename": "NameError",
     "evalue": "name 'process_item' is not defined",
     "traceback": [
      "\u001b[1;31m---------------------------------------------------------------------------\u001b[0m",
      "\u001b[1;31mNameError\u001b[0m                                 Traceback (most recent call last)",
      "\u001b[1;32m<ipython-input-36-b03aefadaf1b>\u001b[0m in \u001b[0;36m<module>\u001b[1;34m\u001b[0m\n\u001b[0;32m      3\u001b[0m     \u001b[1;32mif\u001b[0m \u001b[1;32mnot\u001b[0m \u001b[0mitem\u001b[0m\u001b[1;33m:\u001b[0m\u001b[1;33m\u001b[0m\u001b[1;33m\u001b[0m\u001b[0m\n\u001b[0;32m      4\u001b[0m         \u001b[1;32mbreak\u001b[0m\u001b[1;33m\u001b[0m\u001b[1;33m\u001b[0m\u001b[0m\n\u001b[1;32m----> 5\u001b[1;33m     \u001b[0mprocess_item\u001b[0m\u001b[1;33m(\u001b[0m\u001b[0mitem\u001b[0m\u001b[1;33m)\u001b[0m\u001b[1;33m\u001b[0m\u001b[1;33m\u001b[0m\u001b[0m\n\u001b[0m",
      "\u001b[1;31mNameError\u001b[0m: name 'process_item' is not defined"
     ]
    }
   ],
   "source": [
    "while True:\n",
    "    item = (1 , 2 , 3)\n",
    "    if not item:\n",
    "        break\n",
    "    process_item(item)"
   ]
  },
  {
   "source": [
    "The for …in Statement\n",
    "=\n",
    "Python’s for loop reuses the in keyword in a different context, to iterate"
   ],
   "cell_type": "markdown",
   "metadata": {}
  },
  {
   "cell_type": "code",
   "execution_count": 40,
   "metadata": {},
   "outputs": [
    {
     "output_type": "stream",
     "name": "stdout",
     "text": [
      "Denmark\nFinland\nNorway\nSweden\n"
     ]
    }
   ],
   "source": [
    "countries = [\"Denmark\", \"Finland\", \"Norway\", \"Sweden\"]\n",
    "for country in countries:\n",
    "    print(country)"
   ]
  },
  {
   "source": [
    "Basic Exception Handling\n",
    "=\n",
    "Many of Python’s functions and methods indicate errors or other important\n",
    "events by raising an exception. An exception is an object like any other Python\n",
    "object, and when converted to a string (e.g., when printed), the exception\n",
    "produces a message text."
   ],
   "cell_type": "markdown",
   "metadata": {}
  },
  {
   "source": [
    "try:\n",
    "    try_suite\n",
    "except exception1 as variable1:\n",
    "    exception_suite1\n",
    "...    \n",
    "except exceptionN as variableN:\n",
    "    exception_suiteN"
   ],
   "cell_type": "markdown",
   "metadata": {}
  },
  {
   "source": [
    "The logic works like this. If the statements in the try block’s suite all execute\n",
    "without raising an exception, the except blocks are skipped. If an exception\n",
    "is raised inside the try block, control is immediately passed to the suite corresponding\n",
    "to the first matching exception—this means that any statements in\n",
    "the suite that follow the one that caused the exception will not be executed. If this occurs and if the as variable part is given, then inside the exception-handling\n",
    "suite, variable refers to the exception object.\n",
    "\n",
    "If an exception occurs in the handling except block, or if an exception is raised\n",
    "that does not match any of the except blocks in the first place, Python looks for\n",
    "a matching except block in the next enclosing scope. The search for a suitable\n",
    "exception handler works outward in scope and up the call stack until either\n",
    "a match is found and the exception is handled, or no match is found, in which\n",
    "case the program terminates with an unhandled exception. In the case of\n",
    "an unhandled exception, Python prints a traceback as well as the exception’s\n",
    "message text."
   ],
   "cell_type": "markdown",
   "metadata": {}
  },
  {
   "cell_type": "code",
   "execution_count": 8,
   "metadata": {},
   "outputs": [
    {
     "output_type": "stream",
     "name": "stdout",
     "text": [
      "invalid literal for int() with base 10: '3.5'\n"
     ]
    }
   ],
   "source": [
    "s = input(\"enter an integer: \")\n",
    "try:\n",
    "    i = int(s)\n",
    "    print(\"valid integer entered:\", i)\n",
    "except ValueError as err:\n",
    "    print(err)"
   ]
  },
  {
   "source": [
    "Python provides a full set of arithmetic operators, including binary operators\n",
    "for the four basic mathematical operations:+ addition, - subtraction,* multiplication,\n",
    "and / division. In addition, many Python data types can be used with\n",
    "augmented assignment operators such as += and *=. The +, -, and * operators\n",
    "all behave as expected when both of their operands are integers.\n",
    "\n",
    "The division operator produces a floating-point value, not an integer; Numeric\n",
    "operators\n",
    "and\n",
    "functions\n",
    "➤55\n",
    "many\n",
    "other languages will produce an integer, truncating any fractional part. If\n",
    "we need an integer result, we can always convert using int() (or use the\n",
    "truncating division operator //, discussed later)."
   ],
   "cell_type": "markdown",
   "metadata": {}
  },
  {
   "source": [
    "Augmented assignment is shorthand for assigning the results of an operation—for example, a += 8 is essentially the same as a = a + 8\n",
    "-\n",
    "Python computes a + 8, stores\n",
    "the result in a new int object, and then rebinds a to refer to this new int."
   ],
   "cell_type": "markdown",
   "metadata": {}
  },
  {
   "source": [
    "Python overloads (i.e., reuses for a different data type) the+ and+= operators\n",
    "for both strings and lists, the former meaning concatenation and the latter\n",
    "meaning append for strings and extend (append another list) for lists:"
   ],
   "cell_type": "markdown",
   "metadata": {}
  },
  {
   "cell_type": "code",
   "execution_count": 13,
   "metadata": {},
   "outputs": [
    {
     "output_type": "execute_result",
     "data": {
      "text/plain": [
       "'JohnDoe'"
      ]
     },
     "metadata": {},
     "execution_count": 13
    }
   ],
   "source": [
    "name= \"John\"\n",
    "name+ \"Doe\""
   ]
  },
  {
   "cell_type": "code",
   "execution_count": 12,
   "metadata": {},
   "outputs": [
    {
     "output_type": "execute_result",
     "data": {
      "text/plain": [
       "'John Doe'"
      ]
     },
     "metadata": {},
     "execution_count": 12
    }
   ],
   "source": [
    "name+=\" Doe\"\n",
    "name"
   ]
  },
  {
   "source": [
    "The right-hand operand for the list += operator must be an iterable; if it is not an exception is raised. The correct way to extend a list is to use an iterable object, such as a list:"
   ],
   "cell_type": "markdown",
   "metadata": {}
  },
  {
   "cell_type": "code",
   "execution_count": 16,
   "metadata": {},
   "outputs": [
    {
     "output_type": "execute_result",
     "data": {
      "text/plain": [
       "['sesame', 'sunflower', 5]"
      ]
     },
     "metadata": {},
     "execution_count": 16
    }
   ],
   "source": [
    "seeds = [\"sesame\", \"sunflower\"]\n",
    "seeds += [5]\n",
    "seeds"
   ]
  },
  {
   "source": [
    "Input/Output\n",
    "=\n",
    "Python provides the built-in input() function to accept input from the user.\n",
    "This function takes an optional string argument (which it prints on the console);\n",
    "it then waits for the user to type in a response and to finish by pressing\n",
    "Enter (or Return). If the user does not type any text but just presses Enter, the input()\n",
    "function returns an empty string; otherwise, it returns a string containing\n",
    "what the user typed, without any line terminator."
   ],
   "cell_type": "markdown",
   "metadata": {}
  },
  {
   "cell_type": "code",
   "execution_count": 18,
   "metadata": {},
   "outputs": [
    {
     "output_type": "stream",
     "name": "stdout",
     "text": [
      "Type integers, each followed by Enter; or just Enter to finish\n",
      "count = 3 total = 21 mean = 7.0\n"
     ]
    }
   ],
   "source": [
    "#A first useful piece of code\n",
    "print(\"Type integers, each followed by Enter; or just Enter to finish\")\n",
    "\n",
    "total = 0\n",
    "count = 0\n",
    "\n",
    "while True:\n",
    "    line = input(\"integer: \")\n",
    "    if line:\n",
    "        try:\n",
    "            number = int(line)\n",
    "        except ValueError as err:\n",
    "            print(err)\n",
    "            continue\n",
    "        total += number\n",
    "        count += 1\n",
    "    else:\n",
    "        break\n",
    "\n",
    "if count:\n",
    "    print(\"count =\", count, \"total =\", total, \"mean =\", total / count)"
   ]
  },
  {
   "source": [
    "Output\n",
    "-\n",
    "We can create files by redirecting the print() functions’ output from the console:"
   ],
   "cell_type": "markdown",
   "metadata": {}
  },
  {
   "source": [
    "Whilst in the correct directory, I typed:\n",
    "\n",
    "python hello.py > results.txt"
   ],
   "cell_type": "markdown",
   "metadata": {}
  },
  {
   "source": [
    "Reading data can be achieved by redirecting a file of data as input in an analogous way to redirecting output.\n",
    "-\n",
    "Given the command line sum.py < data\\sum.dat:\n",
    "\n",
    "(where the sum.dat file contains a list of numbers one per line and is in the examples’ data subdirectory),\n",
    "the output to the console is:\n",
    "\n",
    "Type integers, each followed by Enter; or ^D or ^Z to finish\n",
    "count = 10 total = 55 mean = 5.5"
   ],
   "cell_type": "markdown",
   "metadata": {}
  },
  {
   "source": [
    "Creating and Calling Functions\n",
    "=\n",
    "Very often we want to do essentially the same processing repeatedly, but with a small difference,\n",
    "such as a different starting value. Python provides a means of encapsulating suites as functions which can be parameterized by the arguments they are passed.\n",
    "\n",
    "Every Python function has a return value; this defaults to \"None\" unless we return from the function using the syntax \"return\" value\n",
    "\n",
    "When def is executed a function object is created and an object reference with the specified name is created and set to refer to the function object. Since functions are objects, they can be stored in collection data types and passed as arguments to other functions, as we will see in later chapters.\n",
    "-"
   ],
   "cell_type": "markdown",
   "metadata": {}
  },
  {
   "source": [],
   "cell_type": "markdown",
   "metadata": {}
  },
  {
   "source": [
    "Importing modules\n",
    "=\n",
    "A Python module is just a .py file that contains Python code, such as custom\n",
    "function and class (custom data type) definitions, and sometimes variables. To\n",
    "access the functionality in a module we must import it. For example:"
   ],
   "cell_type": "markdown",
   "metadata": {}
  },
  {
   "source": [
    "import sys\n",
    "\n",
    "print(sys.argv)"
   ],
   "cell_type": "code",
   "metadata": {},
   "execution_count": 25,
   "outputs": [
    {
     "output_type": "stream",
     "name": "stdout",
     "text": [
      "['C:\\\\Users\\\\Alex\\\\Anaconda3\\\\envs\\\\py385\\\\lib\\\\site-packages\\\\ipykernel_launcher.py', '--ip=127.0.0.1', '--stdin=9003', '--control=9001', '--hb=9000', '--Session.signature_scheme=\"hmac-sha256\"', '--Session.key=b\"4ab02ba8-6820-4851-b05f-e3332044894c\"', '--shell=9002', '--transport=\"tcp\"', '--iopub=9004', '--f=C:\\\\Users\\\\Alex\\\\AppData\\\\Local\\\\Temp\\\\tmp-12752LV5swgzabF55.json']\n"
     ]
    }
   ]
  },
  {
   "source": [
    "In general, the syntax for using a function from a module is moduleName.functionName(arguments)\n",
    "-\n",
    "The standard modules\n",
    "all have lowercase names, so some programmers use title-case names (e.g., My-\n",
    "Module) for their own modules to keep them distinct.\n",
    "\n",
    "It is conventional to put all the import statements at the beginning of .py files,\n",
    "shebang after the shebang line (#!), and after the module’s documentation."
   ],
   "cell_type": "markdown",
   "metadata": {}
  },
  {
   "cell_type": "code",
   "execution_count": 27,
   "metadata": {},
   "outputs": [
    {
     "output_type": "stream",
     "name": "stdout",
     "text": [
      "2\ndurian\n"
     ]
    }
   ],
   "source": [
    "import random\n",
    "x = random.randint(1, 6)\n",
    "y = random.choice([\"apple\", \"banana\", \"cherry\", \"durian\"])\n",
    "print(x)\n",
    "print(y)"
   ]
  },
  {
   "source": [
    "Python statements normally occupy a single line, but they can span multiple\n",
    "lines if they are a parenthesized expression, a list, set, or dictionary literal, a\n",
    "function call argument list, or a multiline statement where every end-of-line\n",
    "character except the last is escaped by preceding it with a backslash (\\). In\n",
    "all these cases any number of lines can be spanned and indentation does not\n",
    "matter for the second and subsequent lines."
   ],
   "cell_type": "markdown",
   "metadata": {}
  },
  {
   "source": [
    "Bigdigits changes:\n",
    "-\n",
    "Change the processing code so that rather than adding each\n",
    "digit’s row string to the line in one go, you add character by character, and\n",
    "whenever a * is encountered you use the relevant digit."
   ],
   "cell_type": "markdown",
   "metadata": {}
  },
  {
   "source": [
    "To make the awful poetry program more versatile, add some code to it so\n",
    "that if the user enters a number on the command line (between 1 and 10\n",
    "inclusive), the program will output that many lines. If no command-line\n",
    "argument is given, default to printing five lines as before."
   ],
   "cell_type": "markdown",
   "metadata": {}
  },
  {
   "cell_type": "code",
   "execution_count": null,
   "metadata": {},
   "outputs": [],
   "source": []
  }
 ]
}